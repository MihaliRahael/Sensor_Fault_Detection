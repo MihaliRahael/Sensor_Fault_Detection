{
 "cells": [
  {
   "cell_type": "markdown",
   "metadata": {},
   "source": [
    "### Comparing the columns of the data structure defined inside schema and the MongoDB received Dataframe"
   ]
  },
  {
   "cell_type": "code",
   "execution_count": null,
   "metadata": {},
   "outputs": [],
   "source": [
    "from sensor.utils.main_utils import read_yaml_file\n",
    "\n",
    "schema_path =\"D:\\Industry Ready Projects\\Sensor_Fault_Detection\\config\\schema.yaml\"\n",
    "\n",
    "schema_config = read_yaml_file(file_path=schema_path)\n",
    "\n",
    "#len(schema_config['columns']) == len(df.columns)  # checking syntax"
   ]
  },
  {
   "cell_type": "markdown",
   "metadata": {},
   "source": [
    "### Data drift test and generate Yaml report"
   ]
  },
  {
   "cell_type": "code",
   "execution_count": 1,
   "metadata": {},
   "outputs": [],
   "source": [
    "import numpy as np\n",
    "from scipy.stats import ks_2samp"
   ]
  },
  {
   "cell_type": "code",
   "execution_count": 2,
   "metadata": {},
   "outputs": [
    {
     "data": {
      "text/plain": [
       "KstestResult(statistic=0.0, pvalue=1.0)"
      ]
     },
     "execution_count": 2,
     "metadata": {},
     "output_type": "execute_result"
    }
   ],
   "source": [
    "d1 = np.arange(10)\n",
    "d2 = np.arange(10)\n",
    "\n",
    "ks_2samp(d1,d2) \n",
    "\n",
    "# Note : the p-value is 1 indicates there is no data drift between d1 and d2"
   ]
  },
  {
   "cell_type": "code",
   "execution_count": 9,
   "metadata": {},
   "outputs": [
    {
     "data": {
      "text/plain": [
       "KstestResult(statistic=1.0, pvalue=6.870526175538918e-24)"
      ]
     },
     "execution_count": 9,
     "metadata": {},
     "output_type": "execute_result"
    }
   ],
   "source": [
    "d1 = np.random.uniform(-1,0,10)\n",
    "d2 = np.random.lognormal(3,1,1000)\n",
    "\n",
    "ks_2samp(d1,d2) \n",
    "\n",
    "# Note : we can see both datasets belongs to different distributions and hence p-value is zero."
   ]
  },
  {
   "cell_type": "code",
   "execution_count": null,
   "metadata": {},
   "outputs": [],
   "source": [
    "traing_file_path = \"/home/avnish/iNeuron_Private_Intelligence_Limited/industry_ready_project/live_class/sensor-fault-detection/artifact/10_29_2022_12_29_11/data_ingestion/ingested/train.csv\"\n",
    "test_file_path = \"/home/avnish/iNeuron_Private_Intelligence_Limited/industry_ready_project/live_class/sensor-fault-detection/artifact/10_29_2022_12_29_11/data_ingestion/ingested/test.csv\"\n",
    "import pandas as pd\n",
    "train_df = pd.read_csv(traing_file_path)\n",
    "test_df = pd.read_csv(test_file_path)\n",
    "train_df.columns"
   ]
  },
  {
   "cell_type": "code",
   "execution_count": null,
   "metadata": {},
   "outputs": [],
   "source": [
    "# Now we will check in train and test datasets. \n",
    "# Write a fucntion which check wether there is a drift and return a report of more drifted columns with respective p-value.\n",
    "# Note : data drift test can be conducted with catgeorical columns as well.\n",
    "# Suppose we have defined or called train and test dfs \n",
    "\n",
    "def get_drift_report(base_df,current_df,threshold=0.6):  \n",
    "    # only accept if atleast 50% of the distributions of train and test columns match\n",
    "    report ={}\n",
    "\n",
    "    for column in base_df.columns:\n",
    "        d1 = base_df[column]\n",
    "        d2 = current_df[column]\n",
    "        is_same_dist = ks_2samp(d1,d2)\n",
    "        if is_same_dist.pvalue<= threshold:\n",
    "            is_found=False\n",
    "        else:\n",
    "            is_found=True\n",
    "        report.update({column:{\n",
    "            \"p-value\": float(is_same_dist.pvalue),\n",
    "            \"data drift status\": is_found\n",
    "            }})\n",
    "    return report\n",
    "\n",
    "drift_report = get_drift_report(train_df, test_df)"
   ]
  },
  {
   "cell_type": "code",
   "execution_count": null,
   "metadata": {},
   "outputs": [],
   "source": [
    "# Generate yaml file of the data drift report\n",
    "from sensor.utils.main_utils import write_yaml_file\n",
    "import os\n",
    "\n",
    "write_yaml_file(file_path=os.path.join(os.getcwd(),\"report.yaml\"),content=drift_report,replace=True)"
   ]
  }
 ],
 "metadata": {
  "kernelspec": {
   "display_name": "Python 3.8.0",
   "language": "python",
   "name": "python3"
  },
  "language_info": {
   "codemirror_mode": {
    "name": "ipython",
    "version": 3
   },
   "file_extension": ".py",
   "mimetype": "text/x-python",
   "name": "python",
   "nbconvert_exporter": "python",
   "pygments_lexer": "ipython3",
   "version": "3.8.0"
  },
  "orig_nbformat": 4,
  "vscode": {
   "interpreter": {
    "hash": "416bfd1e212837e2a5798700d0c8c6a9ea8efe98a0c7df2fc7528694a223aba5"
   }
  }
 },
 "nbformat": 4,
 "nbformat_minor": 2
}
